{
 "cells": [
  {
   "cell_type": "code",
   "execution_count": 1,
   "metadata": {},
   "outputs": [],
   "source": [
    "import trajectory.main as main\n",
    "import matplotlib.pyplot as plt\n",
    "import numpy as np\n",
    "import scipy.interpolate"
   ]
  },
  {
   "cell_type": "code",
   "execution_count": 2,
   "metadata": {},
   "outputs": [
    {
     "name": "stdout",
     "output_type": "stream",
     "text": [
      "Downloading files\n",
      "Loading wind data for N52.2079404 E0.1160127 for 001h after forcast run at 00 on 20201213\n"
     ]
    }
   ],
   "source": [
    "launch_site=main.LaunchSite(0,0,0,0,longi=0.1160127, lat=52.2079404, variable_wind=True,forcast_plus_time=\"001\")"
   ]
  },
  {
   "cell_type": "code",
   "execution_count": 3,
   "metadata": {},
   "outputs": [
    {
     "data": {
      "text/plain": [
       "59.62768393114443"
      ]
     },
     "execution_count": 3,
     "metadata": {},
     "output_type": "execute_result"
    }
   ],
   "source": [
    "np.angle(launch_site.wind.get_wind(52.2079404,0.1160127,10000)[0]+launch_site.wind.get_wind(52.2079404,0.1160127,10000)[1]*1j)*180/np.pi"
   ]
  },
  {
   "cell_type": "code",
   "execution_count": 4,
   "metadata": {},
   "outputs": [],
   "source": [
    "alts=np.linspace(0,40000,1000)\n",
    "wind=[np.linalg.norm(launch_site.wind.get_wind(52.2079404,0.1160127,alt)) for alt in alts]"
   ]
  },
  {
   "cell_type": "code",
   "execution_count": 5,
   "metadata": {},
   "outputs": [
    {
     "data": {
      "text/plain": [
       "[<matplotlib.lines.Line2D at 0x1a2330b190>]"
      ]
     },
     "execution_count": 5,
     "metadata": {},
     "output_type": "execute_result"
    },
    {
     "data": {
      "image/png": "[encoded data removed]",
      "text/plain": [
       "<Figure size 432x288 with 1 Axes>"
      ]
     },
     "metadata": {
      "needs_background": "light"
     },
     "output_type": "display_data"
    }
   ],
   "source": [
    "plt.plot(alts,wind)"
   ]
  },
  {
   "cell_type": "code",
   "execution_count": 6,
   "metadata": {},
   "outputs": [],
   "source": [
    "point_0_0=launch_site.wind.df.query('lat==52').query('long==0')\n",
    "point_0_1=launch_site.wind.df.query('lat==52').query('long==0.25')\n",
    "point_1_0=launch_site.wind.df.query('lat==52.25').query('long==0')\n",
    "point_1_1=launch_site.wind.df.query('lat==52.25').query('long==0.25')"
   ]
  },
  {
   "cell_type": "code",
   "execution_count": 7,
   "metadata": {},
   "outputs": [],
   "source": [
    "wind_0_0_x=scipy.interpolate.interp1d(point_0_0[\"alt\"],point_0_0[\"w_x\"])(10000)\n",
    "wind_0_1_x=scipy.interpolate.interp1d(point_0_1[\"alt\"],point_0_1[\"w_x\"])(10000)\n",
    "wind_1_0_x=scipy.interpolate.interp1d(point_1_0[\"alt\"],point_1_0[\"w_x\"])(10000)\n",
    "wind_1_1_x=scipy.interpolate.interp1d(point_1_1[\"alt\"],point_1_1[\"w_x\"])(10000)\n",
    "\n",
    "wind_0_0_y=scipy.interpolate.interp1d(point_0_0[\"alt\"],point_0_0[\"w_y\"])(10000)\n",
    "wind_0_1_y=scipy.interpolate.interp1d(point_0_1[\"alt\"],point_0_1[\"w_y\"])(10000)\n",
    "wind_1_0_y=scipy.interpolate.interp1d(point_1_0[\"alt\"],point_1_0[\"w_y\"])(10000)\n",
    "wind_1_1_y=scipy.interpolate.interp1d(point_1_1[\"alt\"],point_1_1[\"w_y\"])(10000)\n",
    "\n",
    "wind_0_x=scipy.interpolate.interp1d([0,0.25],[wind_0_0_x,wind_0_1_x])(0.1160127)\n",
    "wind_1_x=scipy.interpolate.interp1d([0,0.25],[wind_1_0_x,wind_1_1_x])(0.1160127)\n",
    "\n",
    "wind_0_y=scipy.interpolate.interp1d([0,0.25],[wind_0_0_y,wind_0_1_y])(0.1160127)\n",
    "wind_1_y=scipy.interpolate.interp1d([0,0.25],[wind_1_0_y,wind_1_1_y])(0.1160127)\n",
    "\n",
    "wind_x=scipy.interpolate.interp1d([52,52.25],[wind_0_x,wind_1_x])(52.2079404)\n",
    "wind_y=scipy.interpolate.interp1d([52,52.25],[wind_0_y,wind_1_y])(52.2079404)"
   ]
  },
  {
   "cell_type": "code",
   "execution_count": 8,
   "metadata": {},
   "outputs": [
    {
     "name": "stdout",
     "output_type": "stream",
     "text": [
      "50.03460274919859 -29.3226392588536\n"
     ]
    }
   ],
   "source": [
    "print(wind_x,wind_y)"
   ]
  },
  {
   "cell_type": "code",
   "execution_count": null,
   "metadata": {},
   "outputs": [],
   "source": []
  }
 ],
 "metadata": {
  "kernelspec": {
   "display_name": "Python 3",
   "language": "python",
   "name": "python3"
  },
  "language_info": {
   "codemirror_mode": {
    "name": "ipython",
    "version": 3
   },
   "file_extension": ".py",
   "mimetype": "text/x-python",
   "name": "python",
   "nbconvert_exporter": "python",
   "pygments_lexer": "ipython3",
   "version": "3.7.6"
  }
 },
 "nbformat": 4,
 "nbformat_minor": 4
}
