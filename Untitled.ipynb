{
 "cells": [
  {
   "cell_type": "code",
   "execution_count": 1,
   "metadata": {},
   "outputs": [],
   "source": [
    "import netCDF4 as nc"
   ]
  },
  {
   "cell_type": "code",
   "execution_count": 3,
   "metadata": {},
   "outputs": [],
   "source": [
    "d=nc.Dataset(\"%s%s.nc\"%(\"data/wind/radar/capel-dewi/\",\"20201201\"))"
   ]
  },
  {
   "cell_type": "code",
   "execution_count": 4,
   "metadata": {},
   "outputs": [
    {
     "data": {
      "text/plain": [
       "<class 'netCDF4._netCDF4.Dataset'>\n",
       "root group (NETCDF3_CLASSIC data model, file format NETCDF3):\n",
       "    Conventions: CF-1.0\n",
       "    title: 46.5 MHz wind-profiling radar Cartesian data - st300 mode\n",
       "    institution:   Data recorded by the Natural Environment Research Council (NERC)\n",
       "Mesosphere-Stratosphere-Troposphere (MST) Radar Facility at Aberystwyth\n",
       "- http://mst.nerc.ac.uk\n",
       "  Data processed by the Rutherford Appleton Laboratory, Space Science and\n",
       "Technology Department - http://www.sstd.rl.ac.uk\n",
       "  Data held at the British Atmospheric Data Centre\n",
       "http://badc.nerc.ac.uk/data/mst\n",
       "\n",
       "    source:   The Natural Environment Research Council (NERC) Mesosphere-Stratosphere-\n",
       "Troposphere (MST) Radar at Aberystwyth\n",
       "\n",
       "    history: File created 2020-12-02 04:00:22 +00:00 on machine claudius\n",
       "2020-12-02T09:33:01 - Data passed visual quality control check and file\n",
       "  delivered to CEDA for ingestion into archives.\n",
       "    references:   Basic information about the data is available at \n",
       "http://badc.nerc.ac.uk/data/mst\n",
       "  More detailed information about the data is available at \n",
       "http://mst.nerc.ac.uk\n",
       "\n",
       "    comment:   The Natural Environment Research Council (NERC) Mesosphere-Stratosphere- \n",
       "Troposphere (MST) Radar at Aberystwyth (UK) is a 46.5 MHz\n",
       "wind-profiling instrument. It transmits short pulses of radio waves\n",
       "which are scattered back to it from atmospheric targets. The distance\n",
       "of a target from the instrument is determined by the time delay\n",
       "between the transmission and reception of a pulse. The main targets\n",
       "are metre-scale refractive index irregularities, which are referred to\n",
       "as clear-air targets (the term does not necessarily imply clear-sky\n",
       "conditions as the radar is able to see through clouds). Hydrometeors,\n",
       "aircraft, and ground-based objects can also give rise to radar\n",
       "returns. The receiver signal is occasionally contaminated by\n",
       "interference. The refractive index irregularities are caused by\n",
       "variations in atmospheric humidity (within the lowest 10 km of the\n",
       "atmosphere), in atmospheric density (within the lowest few 10s of km)\n",
       "and in free electron density (above 50 km). The radar return signal\n",
       "power is typically proportional to the square of the mean vertical\n",
       "gradient of the (potential) refractive index and inversely\n",
       "proportional to the square of the range of the clear-air targets from\n",
       "the radar. The refractive index irregularities are assumed to be\n",
       "advected with the wind. Consequently the radial velocity, i.e. the\n",
       "component of the wind vector along the radar beam pointing direction,\n",
       "can be inferred from the Doppler shift of the radar return\n",
       "signal. Atmospheric turbulence gives rise to variability in the radial\n",
       "velocity when observed over a time scale of a few tens of\n",
       "seconds. However, as a result of the radar's finite beam width, the\n",
       "observed spread tends to be dominated by a beam-broadening component,\n",
       "which is proportional to the horizontal wind speed. Consequently it\n",
       "becomes increasingly difficult to infer turbulence intensities as the\n",
       "wind speed increases.\n",
       "  The radar receiver signal is sampled at 1.0 us intervals following\n",
       "the transmission of a pulse. This corresponds to sampling at 150.0 m\n",
       "intervals in range from the radar. It is necessary to sample both the\n",
       "in-phase (I) and quadrature (Q) components of the receiver signal\n",
       "(i.e. complex values) in order to allow both the magnitude and the\n",
       "sign of the Doppler shift to be inferred. In the m-mode samples are\n",
       "recorded between ranges of approximately 60 and 90 km. In the st-mode\n",
       "samples are recorded between ranges of approximately 2 and 20 km. It\n",
       "is possible to operate the radar in mst-mode so that both altitude\n",
       "ranges are sampled simultaneously. The range resolution of the radar\n",
       "returns is determined by the length of the transmitter pulse (not by\n",
       "the sampling interval), to which the receiver bandwidth must be\n",
       "matched. The range resolution can be increased by using complementary\n",
       "coding. This requires the phase of sub-lengths of the transmitter\n",
       "pulse to be offset by either 0 or 180 degrees according to a set\n",
       "coding pattern. The range resolution is then determined by the\n",
       "sub-length of the transmitter pulse (to which the receiver bandwidth\n",
       "is matched).\n",
       "  No attempt is made to derive radar return signal parameters until\n",
       "samples have been acquired for a large, pre-determined number of\n",
       "pulses - typically covering a few tens of seconds. The term dwell is\n",
       "used to refer to this collection interval or to range profiles of any\n",
       "of the data products associated with it. A dwell initially consists of\n",
       "a complex time series, for each range gate, of I and Q samples which\n",
       "are separated in time by the inter pulse period (of the order of a\n",
       "millisecond). The nature of the samples changes only slowly from pulse\n",
       "to pulse and so coherent integration is applied - for each range gate,\n",
       "groups of consecutive samples are summed together. The number of\n",
       "complex samples in the resulting time series is thus reduced, and the\n",
       "time interval between them is increased, by a factor equal to the\n",
       "number of coherent integrations (typically of the order of a few\n",
       "hundred). The time interval between the new samples (typically of the\n",
       "order of 0.1 s) determines the Nyquist velocity (typically of the\n",
       "order of 10 m/s), the maximum radial velocity that can be\n",
       "unambiguously determined. Decoding must be applied to the coherently\n",
       "integrated samples if a complementary transmitter code has been\n",
       "used. For each range gate, a complex Doppler frequency spectrum is\n",
       "derived by applying a weighting window to the complex time series data\n",
       "followed by a discrete Fourier transform. This spectrum is multiplied\n",
       "by its complex conjugate to give a power spectrum. Doppler frequencies\n",
       "are converted into Doppler velocities by multiplying by half the radar\n",
       "wavelength. The sign must be changed so that movement away from the\n",
       "radar (which gives rise to a negative frequency shift) is represented\n",
       "by a positive velocity. If desired, consecutively-observed Doppler\n",
       "velocity power spectra may be incoherently integrated by adding them\n",
       "together. This increases the detectability of signals. In general a\n",
       "Doppler velocity power spectrum contains one or more signal components\n",
       "superimposed on a background of nominally white noise. The power\n",
       "spectral densities (PSDs) of the velocity bins around zero velocity\n",
       "(the number depends on the data weighting window used) are typically\n",
       "contaminated by dc biases in the time-series samples. The values must\n",
       "be replaced by linearly interpolating between the PSDs of adjacent\n",
       "velocity bins. The noise power is dominated by broad-band lower-VHF\n",
       "cosmic radiation, which undergoes a diurnal variation by a factor of\n",
       "approximately 2.\n",
       "  For each Doppler velocity power spectrum, the noise power spectral\n",
       "density (PSD) is determined by the statistical method of Hildebrand\n",
       "and Sekhon (1974). The noise power is equal to the noise PSD summed\n",
       "across the width of the spectrum. The velocity bin limits of the\n",
       "strongest signal component are determined by first locating the peak\n",
       "value of the running-mean-smoothed PSD. The smoothed PSD is then\n",
       "followed to either side until one of the following conditions is\n",
       "encountered: the smoothed PSD has dropped below the noise PSD, the\n",
       "smoothed PSD has dropped below a set fraction of the peak value, or a\n",
       "local minimum is encountered (and the smoothed PSD is below a set\n",
       "fraction of the peak value). The final criterion is particularly\n",
       "important under stratiform precipitation conditions in order to\n",
       "separate partially-overlapping clear-air and hydrometeor signal\n",
       "components. The PSDs within the signal limits first have the noise PSD\n",
       "subtracted and are then compensated for the low-pass-filtering effect\n",
       "of coherent integration. The zeroth (m0), first (m1) and second (m2)\n",
       "order moments (of the corrected PSDs within the signal limits) are\n",
       "calculated in order to derive the signal power (m0), the radial\n",
       "velocity (m1/m0) and the spectral width (sqrt[(m2/m0) -\n",
       "(m1/m0)**2]). For st-mode observations it is desirable to identify\n",
       "more than one signal component per spectrum (typically two). A radial\n",
       "continuity algorithm is then used to identify the primary signal\n",
       "component for each range gate, i.e. that which leads to the most\n",
       "likely overall clear-air radar return profile. A second attempt may be\n",
       "made to identify the primary signal components if the first profile is\n",
       "deemed to be contaminated by interference. A final attempt is made to\n",
       "improve the selection of primary signal components for the lowest\n",
       "range gates in case of contamination by hydrometeor\n",
       "returns. Subsequently attention is confined to the primary signal\n",
       "components. Nevertheless, the radar return parameters for the\n",
       "non-primary signal components are saved in the radial data files as\n",
       "they may contain scientifically useful information, e.g. concerning\n",
       "precipitation.\n",
       "  For wind-profiling purposes, MST radar observations are cycled\n",
       "through a sequence of dwells with different beam pointing\n",
       "directions. The radial velocity for each dwell is assumed to represent\n",
       "the the dot product of the three-dimensional wind vector and a unit\n",
       "vector along the beam pointing direction. The radial velocity observed\n",
       "by a vertical beam (i.e. a dwell with a beam pointing zenith angle of\n",
       "zero) is therefore assumed to be equal to the vertical component of\n",
       "the wind. The radial velocity observed by an off-vertical beam (i.e. a\n",
       "dwell with a small, non-zero beam pointing zenith angle) is assumed to\n",
       "represent the vector sum of the vertical component of the wind\n",
       "multiplied by the cosine of the zenith angle, and the component of the\n",
       "horizontal wind along the the radar beam pointing azimuth multiplied\n",
       "by the sine of the zenith angle. Consequently a component of the\n",
       "horizontal wind can be derived for each vertical/off-vertical beam\n",
       "pair. When more than one vertical beam observation is made per cycle,\n",
       "that closest in time to the off-vertical beam observation is used for\n",
       "deriving the horizontal wind components. When combining vertical and\n",
       "off-vertical beam radial velocity components, vertical beam data are\n",
       "taken from those range gates which are most closely matched in\n",
       "altitude to the off-vertical beam range gates. A time continuity\n",
       "algorithm is applied to the horizontal wind components for the\n",
       "off-vertical beams, and to the vertical wind components for the\n",
       "vertical beams, as a further test for reliability. Time continuity is\n",
       "first established uni-directionally, i.e. by comparing the\n",
       "observations to be flagged only with those made at earlier times. This\n",
       "allows wind-profile data to be made available with only a short time\n",
       "delay. However, the process is repeated as soon as there are\n",
       "sufficient subsequent observations to allow bi-directional flagging to\n",
       "be applied. The overall reliability of signal components requires them\n",
       "to have passed both radial continuity (when the tests have been made)\n",
       "and time continuity tests.\n",
       "  In order to derive Cartesian components of the wind vector,\n",
       "observations must be made in the vertical direction and at an\n",
       "off-vertical angle in two orthogonal azimuths. A typical cycle of\n",
       "observation includes many more beam pointing directions. The\n",
       "availability of additional information allows improved wind component\n",
       "estimates to be made. Attention is confined to the horizontal wind\n",
       "components (derived from vertical/off-vertical beam pairs, as\n",
       "described above) arising from off-vertical beam observations made with\n",
       "a single, pre-determined zenith angle (indicated by the global\n",
       "attribute cart_horiz_wind_zen_angle_deg; this is typically 6.0\n",
       "degrees). If observations are made more than once per cycle with the\n",
       "same off-vertical beam, only those from the first instance are\n",
       "considered. If observations have been made with the complementary\n",
       "off-vertical beam (i.e. that with the same zenith angle but with an\n",
       "azimuth angle which differs by 180 degrees), the horizontal wind\n",
       "components are averaged (if they are both flagged as being\n",
       "reliable). The difference between them gives a measure of reliability\n",
       "of the averaged value. It gives an indication of the degree to which a\n",
       "fundamental assumption of the wind-profiling technique is valid: that\n",
       "the wind field is stationary over the time taken to complete a full\n",
       "cycle of observation (typically a few minutes) and over the horizontal\n",
       "distance separating the radar observation volumes for the different\n",
       "beam pointing directions (of the order of 2 km at 10 km altitude). If\n",
       "the difference exceeds a predefined value (given by the global\n",
       "attribute cart_max_compl_beam_horiz_vel_diff_mps), the averaged\n",
       "horizontal wind component is flagged as being unreliable. The\n",
       "horizontal wind complementary beam variability values stored in the\n",
       "Cartesian files represent the root of the sum of the squares of the\n",
       "values for the primary and secondary (i.e. orthogonal) radar\n",
       "azimuths. The primary radar azimuth is given by the global attribute\n",
       "cart_horiz_wind_primary_azi_angle_deg. \n",
       "  Owing to the aspect sensitivity of radar returns (i.e. to the fact\n",
       "that the radar return signal power often decreases with increasing\n",
       "zenith angle) and to the finite radar beam width, the effective\n",
       "pointing angle for an off-vertical beam is typically slightly closer\n",
       "to the vertical than the nominal zenith angle. This leads to slight\n",
       "underestimates of the magnitudes of the horizontal wind\n",
       "components. The amount can quantified, and the horizontal wind\n",
       "components are compensated, through consideration of the theta_s\n",
       "parameter, which is derived from the ratio of the radar return signal\n",
       "powers at two non-zero zenith angles (Hooper and Thomas, 1995). If\n",
       "observations are made more than once per cycle at these zenith angles\n",
       "(given by the global attributes cart_theta_s_low_zen_angle_deg and\n",
       "cart_theta_s_high_zen_angle_deg) the radar signal powers are first\n",
       "averaged. Finally the horizontal wind components are rotated from\n",
       "their native azimuths (i.e. from cart_horiz_wind_primary_azi_angle_deg\n",
       "and an orthogonal direction) to give northward and eastward\n",
       "components. A single flag indicates the reliability of both horizontal\n",
       "wind components.\n",
       "  The characteristics of thirty-minute-average wind-profile data\n",
       "derived from this (version 3) processing scheme have been evaluated by\n",
       "the Met Office. The random errors, evaluated over 7 days, are\n",
       "typically in the range 1.0 - 3.0 m/s for altitudes between 2 and 15 km\n",
       "and in the range 3.0 - 4.0 m/s between 15 and 20 km. The number of\n",
       "reported winds begins to decrease with increasing altitude in the\n",
       "upper altitude range. Winds are reported at least 80% of the time up\n",
       "to 18 km but no more than 30% of the time at 20 km. Comparisons have\n",
       "also been made against the winds from the Met Office's numerical\n",
       "weather prediction model. The magnitudes of the component biases are\n",
       "less than 0.5 m/s at all altitudes. The root mean square component\n",
       "differences are in the range 2.0 - 3.0 m/s. The directional bias is\n",
       "approximately 1.0 degree and the magnitude of the speed bias is less\n",
       "than 1.0 m/s. These values are comparable to those for radiosonde\n",
       "data.\n",
       "  The vertical wind component (for which the standard name is\n",
       "upward_air_velocity) is given by the radial velocity of the vertical\n",
       "beam observation. The accuracy of these estimates is difficult to\n",
       "estimate owing to the lack of comparable measurements. The value of\n",
       "0.2 m/s represents the typical magnitude of fluctuations (about zero)\n",
       "under quiet conditions. Mountain wave conditions give rise to peak\n",
       "values of the order of 1.0 m/s and convective conditions to peak\n",
       "values of the order of 10.0 m/s. When more than one vertical beam\n",
       "observation is made per cycle, only the first instance is\n",
       "considered. The vertical beam radar return signal power and spectral\n",
       "width also relate to this instance. A single flag indicates the\n",
       "reliability of all three vertical beam products. Vertical beam data\n",
       "products are taken from those range gates which are most closely\n",
       "matched in altitude to the range gates for the the off-vertical angle\n",
       "(cart_horiz_wind_zen_angle_deg) used for the horizontal wind\n",
       "estimation. This is true of all data products stored in the Cartesian\n",
       "files. Changes in the vertical beam radar return signal power from the\n",
       "upper-troposphere/lower-stratosphere region tends to be closely\n",
       "related to those in the vertical temperature gradient. This allows\n",
       "both the altitude and the sharpness of the tropopause to be determined\n",
       "by the method of Hooper and Arvelius (2000).\n",
       "  The spectral width of vertical beam radar returns tends to be\n",
       "dominated by the beam-broadening component, which is equal to the\n",
       "product of the horizontal wind speed and of the radar beam two-way\n",
       "half-power half-width. The beam broadening corrected spectral width\n",
       "values represent the the root of the difference between the squares of\n",
       "the observed widths and of the beam-broadening components. It has its\n",
       "own reliability flag. The accuracy of 0.1 m/s is estimated from the\n",
       "typical spread of those beam-broadening component values which exceed\n",
       "the observed values. No beam broadening corrected values can be\n",
       "calculated under such conditions.\n",
       "  In addition to quantifying the aspect sensitivity of radar returns\n",
       "through the theta_s parameter, a second, simpler measure is given by\n",
       "the ratio of the signal power observed by the vertical beam to that\n",
       "observed at an off-vertical angle (given by the global attribute\n",
       "cart_asp_sens_high_zen_angle_deg, which is typically 6.0\n",
       "degrees). Signal powers are first averaged when there is more than one\n",
       "observation per cycle for each of the required zenith angles. Small\n",
       "values of aspect sensitivity (< 5 dB) imply backscatter from\n",
       "quasi-isotropic refractive index irregularities, which suggests that\n",
       "the atmosphere is well mixed. Large values (> 10 dB) imply that the\n",
       "coherence length of the refractive index irregularities is far greater\n",
       "in the horizontal than in the vertical. Such structures are consistent\n",
       "with the atmosphere being not well mixed. The aspect sensitivity tends\n",
       "to be low in the troposphere and high in the stratosphere although\n",
       "this is not always the case. The aspect sensitivity has its own\n",
       "reliability flag.\n",
       "\n",
       "    data_year: 2020\n",
       "    data_month: 12\n",
       "    data_day: 1\n",
       "    data_altitude_mode: st\n",
       "    data_range_resolution_m: 300.0\n",
       "    data_range_resolution_number: 2\n",
       "    data_bottom_range_gate_number: 18\n",
       "    data_top_range_gate_number: 147\n",
       "    radar_frequency_MHz: 46.5\n",
       "    radar_wavelength_m: 6.45\n",
       "    radar_transmitters: 5 Tycho Technology WPT-50s\n",
       "    radar_peak_transmitted_power_kW: 160.0\n",
       "    radar_antenna_type: 20 by 20 array of 4-element Yagi aerials with 0.85 wavelength spacing\n",
       "    radar_antenna_side_length_m: 104.12\n",
       "    radar_beam_one_way_half_power_half_width_degrees: 1.5\n",
       "    radar_location_name: Capel Dewi (near Aberystwyth, UK)\n",
       "    radar_latitude_degrees_north: 52.42\n",
       "    radar_longitude_degrees_east: -4.01\n",
       "    radar_altitude_above_mean_sea_level_m: 50.0\n",
       "    radar_british_national_grid_reference: SN637826\n",
       "    signal_processing_version_number: 3\n",
       "    signal_processing_sub_version_number: 2\n",
       "    sig_lims_min_peak_smooth_psd_to_noise_dB_to_flag: 10.0\n",
       "    cart_horiz_wind_zen_angle_deg: 6.0\n",
       "    cart_horiz_wind_primary_azi_angle_deg: 27.5\n",
       "    cart_apply_theta_s_corr_to_horiz_wind: 1\n",
       "    cart_max_compl_beam_horiz_vel_diff_mps: 10.0\n",
       "    cart_max_theta_s_horiz_wind_corr_fact: 1.5\n",
       "    cart_theta_s_high_zen_angle_deg: 6.0\n",
       "    cart_theta_s_low_zen_angle_deg: 4.2\n",
       "    cart_tpause_grad_intvl_m: 1800.0\n",
       "    cart_asp_sens_high_zen_angle_deg: 6.0\n",
       "    dimensions(sizes): time(276), altitude(130)\n",
       "    variables(dimensions): float32 \u001b[4mtime\u001b[0m(time), float32 \u001b[4maltitude\u001b[0m(altitude), float32 \u001b[4mlatitude\u001b[0m(), float32 \u001b[4mlongitude\u001b[0m(), int8 \u001b[4mhorizontal_wind_components_are_reliable\u001b[0m(time,altitude), int16 \u001b[4mhorizontal_wind_components_reliability_details\u001b[0m(time,altitude), float32 \u001b[4meastward_wind\u001b[0m(time,altitude), float32 \u001b[4mnorthward_wind\u001b[0m(time,altitude), int8 \u001b[4mhorizontal_wind_complementary_beam_variability\u001b[0m(time,altitude), float32 \u001b[4mhorizontal_wind_theta_s_compensation_factor\u001b[0m(time,altitude), int8 \u001b[4mvertical_beam_data_are_reliable\u001b[0m(time,altitude), int16 \u001b[4mvertical_beam_data_reliability_details\u001b[0m(time,altitude), float32 \u001b[4mvertical_beam_signal_power\u001b[0m(time,altitude), float32 \u001b[4mvertical_beam_radial_velocity\u001b[0m(time,altitude), float32 \u001b[4mvertical_beam_spectral_width\u001b[0m(time,altitude), int8 \u001b[4mbeam_broadening_corrected_spectral_width_is_reliable\u001b[0m(time,altitude), int16 \u001b[4mbeam_broadening_corrected_spectral_width_reliability_details\u001b[0m(time,altitude), float32 \u001b[4mbeam_broadening_corrected_spectral_width\u001b[0m(time,altitude), int8 \u001b[4maspect_sensitivity_is_reliable\u001b[0m(time,altitude), int16 \u001b[4maspect_sensitivity_reliability_details\u001b[0m(time,altitude), float32 \u001b[4maspect_sensitivity\u001b[0m(time,altitude), float32 \u001b[4mvertical_beam_median_noise_power\u001b[0m(time), float32 \u001b[4mtropopause_altitude\u001b[0m(time), int8 \u001b[4mtropopause_sharpness_factor\u001b[0m(time)\n",
       "    groups: "
      ]
     },
     "execution_count": 4,
     "metadata": {},
     "output_type": "execute_result"
    }
   ],
   "source": [
    "d"
   ]
  },
  {
   "cell_type": "code",
   "execution_count": 18,
   "metadata": {},
   "outputs": [
    {
     "data": {
      "text/plain": [
       "masked_array(data=-4.01,\n",
       "             mask=False,\n",
       "       fill_value=1e+20,\n",
       "            dtype=float32)"
      ]
     },
     "execution_count": 18,
     "metadata": {},
     "output_type": "execute_result"
    }
   ],
   "source": [
    "d[\"longitude\"][:]"
   ]
  },
  {
   "cell_type": "code",
   "execution_count": 1,
   "metadata": {},
   "outputs": [],
   "source": [
    "import iris\n",
    "data=iris.load(\"data/wind/gfs/52.0_359.75_20201217_00_000.grb2\")\n",
    "data_x=data[1]\n",
    "data_y=data[3]\n",
    "data_geo=data[0]"
   ]
  },
  {
   "cell_type": "code",
   "execution_count": 2,
   "metadata": {},
   "outputs": [],
   "source": [
    "sample_point=[('latitude', 51.6),\n",
    "              ('longitude', 0.1)]\n",
    "w_x=data_x.interpolate(sample_point, iris.analysis.Linear())#Should change wind to use this shite\n",
    "w_y=data_y.interpolate(sample_point, iris.analysis.Linear())\n",
    "geo=data_geo.interpolate(sample_point, iris.analysis.Linear())"
   ]
  },
  {
   "cell_type": "code",
   "execution_count": 8,
   "metadata": {},
   "outputs": [],
   "source": [
    "import scipy.interpolate\n",
    "w_xs=[]\n",
    "w_ys=[]\n",
    "for alt in geo.data:\n",
    "    press=scipy.interpolate.interp1d(geo.data,geo.coord(\"pressure\").points,fill_value=\"extrapolate\")(alt)\n",
    "    w_xs.append(scipy.interpolate.interp1d(w_x.coord(\"pressure\").points,w_x.data,fill_value=\"extrapolate\")(press))\n",
    "    w_ys.append(scipy.interpolate.interp1d(w_y.coord(\"pressure\").points,w_y.data,fill_value=\"extrapolate\")(press))"
   ]
  },
  {
   "cell_type": "code",
   "execution_count": 10,
   "metadata": {},
   "outputs": [
    {
     "data": {
      "text/plain": [
       "<matplotlib.legend.Legend at 0x1a1c673cd0>"
      ]
     },
     "execution_count": 10,
     "metadata": {},
     "output_type": "execute_result"
    },
    {
     "data": {
      "image/png": "[encoded data removed]",
      "text/plain": [
       "<Figure size 432x288 with 1 Axes>"
      ]
     },
     "metadata": {
      "needs_background": "light"
     },
     "output_type": "display_data"
    }
   ],
   "source": [
    "import matplotlib.pyplot as plt\n",
    "plt.plot(geo.data,w_xs,label=\"interps\")\n",
    "w_xs_=[[],[],[],[]]\n",
    "for i,d in enumerate(w_x.data):\n",
    "    w_xs_[0].append(data[1][i][0][0].data)\n",
    "    w_xs_[1].append(data[1][i][1][0].data)\n",
    "    w_xs_[2].append(data[1][i][0][1].data)\n",
    "    w_xs_[3].append(data[1][i][1][1].data)\n",
    "for n in range(0,4):   \n",
    "    plt.plot([scipy.interpolate.interp1d(geo.coord(\"pressure\").points,geo.data,fill_value=\"extrapolate\")(pres) for pres in data[1].coord(\"pressure\").points],w_xs_[n],label=n)\n",
    "plt.legend()"
   ]
  },
  {
   "cell_type": "code",
   "execution_count": 42,
   "metadata": {},
   "outputs": [
    {
     "data": {
      "text/html": [
       "\n",
       "<style>\n",
       "  a.iris {\n",
       "      text-decoration: none !important;\n",
       "  }\n",
       "  table.iris {\n",
       "      white-space: pre;\n",
       "      border: 1px solid;\n",
       "      border-color: #9c9c9c;\n",
       "      font-family: monaco, monospace;\n",
       "  }\n",
       "  th.iris {\n",
       "      background: #303f3f;\n",
       "      color: #e0e0e0;\n",
       "      border-left: 1px solid;\n",
       "      border-color: #9c9c9c;\n",
       "      font-size: 1.05em;\n",
       "      min-width: 50px;\n",
       "      max-width: 125px;\n",
       "  }\n",
       "  tr.iris :first-child {\n",
       "      border-right: 1px solid #9c9c9c !important;\n",
       "  }\n",
       "  td.iris-title {\n",
       "      background: #d5dcdf;\n",
       "      border-top: 1px solid #9c9c9c;\n",
       "      font-weight: bold;\n",
       "  }\n",
       "  .iris-word-cell {\n",
       "      text-align: left !important;\n",
       "      white-space: pre;\n",
       "  }\n",
       "  .iris-subheading-cell {\n",
       "      padding-left: 2em !important;\n",
       "  }\n",
       "  .iris-inclusion-cell {\n",
       "      padding-right: 1em !important;\n",
       "  }\n",
       "  .iris-panel-body {\n",
       "      padding-top: 0px;\n",
       "  }\n",
       "  .iris-panel-title {\n",
       "      padding-left: 3em;\n",
       "  }\n",
       "  .iris-panel-title {\n",
       "      margin-top: 7px;\n",
       "  }\n",
       "</style>\n",
       "<table class=\"iris\" id=\"112275422608\">\n",
       "    <tr class=\"iris\">\n",
       "<th class=\"iris iris-word-cell\">Geopotential Height (m)</th>\n",
       "<th class=\"iris iris-word-cell\">(scalar cube)</th>\n",
       "</tr>\n",
       "    \n",
       "    <tr class=\"iris\">\n",
       "    <td class=\"iris-title iris-word-cell\">Scalar coordinates</td>\n",
       "    <td class=\"iris-title\"></td>\n",
       "</tr>\n",
       "<tr class=\"iris\">\n",
       "    <td class=\"iris-word-cell iris-subheading-cell\">\tforecast_period</td>\n",
       "    <td class=\"iris-word-cell\" colspan=\"1\">0 hours</td>\n",
       "</tr>\n",
       "<tr class=\"iris\">\n",
       "    <td class=\"iris-word-cell iris-subheading-cell\">\tforecast_reference_time</td>\n",
       "    <td class=\"iris-word-cell\" colspan=\"1\">2020-12-17 00:00:00</td>\n",
       "</tr>\n",
       "<tr class=\"iris\">\n",
       "    <td class=\"iris-word-cell iris-subheading-cell\">\tlatitude</td>\n",
       "    <td class=\"iris-word-cell\" colspan=\"1\">52.0 degrees</td>\n",
       "</tr>\n",
       "<tr class=\"iris\">\n",
       "    <td class=\"iris-word-cell iris-subheading-cell\">\tlongitude</td>\n",
       "    <td class=\"iris-word-cell\" colspan=\"1\">359.75 degrees</td>\n",
       "</tr>\n",
       "<tr class=\"iris\">\n",
       "    <td class=\"iris-word-cell iris-subheading-cell\">\tpressure</td>\n",
       "    <td class=\"iris-word-cell\" colspan=\"1\">40.0 Pa</td>\n",
       "</tr>\n",
       "<tr class=\"iris\">\n",
       "    <td class=\"iris-word-cell iris-subheading-cell\">\ttime</td>\n",
       "    <td class=\"iris-word-cell\" colspan=\"1\">2020-12-17 00:00:00</td>\n",
       "</tr>\n",
       "<tr class=\"iris\">\n",
       "    <td class=\"iris-title iris-word-cell\">Attributes</td>\n",
       "    <td class=\"iris-title\"></td>\n",
       "</tr>\n",
       "<tr class=\"iris\">\n",
       "    <td class=\"iris-word-cell iris-subheading-cell\">\tGRIB_PARAM</td>\n",
       "    <td class=\"iris-word-cell\" colspan=\"1\">GRIB2:d000c003n005</td>\n",
       "</tr>\n",
       "</table>\n",
       "        "
      ],
      "text/plain": [
       "<iris 'Cube' of geopotential_height / (m) (scalar cube)>"
      ]
     },
     "execution_count": 42,
     "metadata": {},
     "output_type": "execute_result"
    }
   ],
   "source": [
    "data[0][0][0][0]"
   ]
  },
  {
   "cell_type": "code",
   "execution_count": 35,
   "metadata": {},
   "outputs": [
    {
     "data": {
      "text/plain": [
       "array(51927.085)"
      ]
     },
     "execution_count": 35,
     "metadata": {},
     "output_type": "execute_result"
    }
   ],
   "source": [
    "data[0][0][0][0].data"
   ]
  },
  {
   "cell_type": "code",
   "execution_count": 106,
   "metadata": {},
   "outputs": [
    {
     "data": {
      "text/plain": [
       "array(-14912.57665002)"
      ]
     },
     "execution_count": 106,
     "metadata": {},
     "output_type": "execute_result"
    }
   ],
   "source": [
    "g_(10000)"
   ]
  },
  {
   "cell_type": "code",
   "execution_count": 107,
   "metadata": {},
   "outputs": [
    {
     "data": {
      "text/plain": [
       "array([ 379687.03679991,  101741.03279972, -183923.30360007,\n",
       "       -154018.45609999,   49023.34160042,   73395.69219995,\n",
       "         63617.87879992,  -11203.0079    ,   -6028.64149976,\n",
       "         57317.48640001,    4782.3204    ,  -25615.14030004,\n",
       "         66957.91330016,  -14912.57665002,   17004.74785006,\n",
       "         25519.64845002,   19254.86727488,   18031.92477494,\n",
       "         23538.71492505,   23659.59572506,   10125.5221    ,\n",
       "         11879.00174996,    9444.62477499,    5483.90676001,\n",
       "         18451.98985997,   27347.66897   ,   16097.45827997,\n",
       "          3379.09006003,   -6670.1073    ,  -14373.3307625 ,\n",
       "        -38673.0886    ,  -53174.725715  ,  -61465.18356688,\n",
       "        -65710.22594125])"
      ]
     },
     "execution_count": 107,
     "metadata": {},
     "output_type": "execute_result"
    }
   ],
   "source": [
    "g.data"
   ]
  },
  {
   "cell_type": "code",
   "execution_count": 108,
   "metadata": {},
   "outputs": [
    {
     "data": {
      "text/plain": [
       "array(379687.03679991)"
      ]
     },
     "execution_count": 108,
     "metadata": {},
     "output_type": "execute_result"
    }
   ],
   "source": [
    "g[0].data"
   ]
  },
  {
   "cell_type": "code",
   "execution_count": null,
   "metadata": {},
   "outputs": [],
   "source": []
  }
 ],
 "metadata": {
  "kernelspec": {
   "display_name": "Python 3",
   "language": "python",
   "name": "python3"
  },
  "language_info": {
   "codemirror_mode": {
    "name": "ipython",
    "version": 3
   },
   "file_extension": ".py",
   "mimetype": "text/x-python",
   "name": "python",
   "nbconvert_exporter": "python",
   "pygments_lexer": "ipython3",
   "version": "3.7.6"
  }
 },
 "nbformat": 4,
 "nbformat_minor": 4
}
