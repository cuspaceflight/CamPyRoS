{
 "cells": [
  {
   "cell_type": "code",
   "execution_count": 3,
   "metadata": {},
   "outputs": [
    {
     "name": "stdout",
     "output_type": "stream",
     "text": [
      "{\"orders\":[]}\n"
     ]
    }
   ],
   "source": [
    "import http.client\n",
    "\n",
    "conn = http.client.HTTPSConnection(\"api-metoffice.apiconnect.ibmcloud.com\")\n",
    "\n",
    "headers = {\n",
    "    'x-ibm-client-id': \"d31a2084-23e1-4f77-be41-7d5e9e88a62f\",\n",
    "    'x-ibm-client-secret': \"C4qI1tL5gJ5uN6qX8eJ2cJ2bY7oP5oS6gH2xQ4yB1qI5gO2tM8\",\n",
    "    'accept': \"application/json\"\n",
    "    }\n",
    "\n",
    "conn.request(\"GET\", \"/metoffice/production/1.0.0/orders\", headers=headers)\n",
    "\n",
    "res = conn.getresponse()\n",
    "data = res.read()\n",
    "\n",
    "print(data.decode(\"utf-8\"))"
   ]
  },
  {
   "cell_type": "code",
   "execution_count": null,
   "metadata": {},
   "outputs": [],
   "source": []
  }
 ],
 "metadata": {
  "kernelspec": {
   "display_name": "Python 3",
   "language": "python",
   "name": "python3"
  },
  "language_info": {
   "codemirror_mode": {
    "name": "ipython",
    "version": 3
   },
   "file_extension": ".py",
   "mimetype": "text/x-python",
   "name": "python",
   "nbconvert_exporter": "python",
   "pygments_lexer": "ipython3",
   "version": "3.7.6"
  }
 },
 "nbformat": 4,
 "nbformat_minor": 4
}
