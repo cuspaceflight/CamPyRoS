{
 "cells": [
  {
   "cell_type": "markdown",
   "metadata": {},
   "source": [
    "First import the modules we need:"
   ]
  },
  {
   "cell_type": "code",
   "execution_count": 1,
   "metadata": {},
   "outputs": [],
   "source": [
    "import trajectory, trajectory.post, trajectory.aero, csv\n",
    "import numpy as np"
   ]
  },
  {
   "cell_type": "markdown",
   "metadata": {},
   "source": [
    "To run an aerodynamic simulation, we must have already run a trajectory simulation and saved the output to a .JSON. We will now import that JSON:"
   ]
  },
  {
   "cell_type": "code",
   "execution_count": 2,
   "metadata": {},
   "outputs": [],
   "source": [
    "imported_data = trajectory.from_json(\"output.json\")"
   ]
  },
  {
   "cell_type": "markdown",
   "metadata": {},
   "source": [
    "We need to recreate the Rocket object that was used to generate output.json. This is because output.json only contains trajectory data, but no details on the actual launch vehicle."
   ]
  },
  {
   "cell_type": "code",
   "execution_count": 3,
   "metadata": {},
   "outputs": [],
   "source": [
    "'''Import motor data - copied from Joe Hunt's simulation'''\n",
    "with open('novus_sim_6.1/motor_out.csv') as csvfile:\n",
    "    motor_out = csv.reader(csvfile)\n",
    "\n",
    "    (motor_time_data, prop_mass_data, cham_pres_data,\n",
    "     throat_data, gamma_data, nozzle_efficiency_data,\n",
    "     exit_pres_data, area_ratio_data, vmass_data, lden_data, lmass_data, fuel_mass_data) = [], [], [], [], [], [], [], [], [], [], [], []\n",
    "\n",
    "    next(motor_out)\n",
    "    for row in motor_out:\n",
    "        motor_time_data.append(float(row[0]))\n",
    "        prop_mass_data.append(float(row[1]))\n",
    "        cham_pres_data.append(float(row[2]))\n",
    "        throat_data.append(float(row[3]))\n",
    "        gamma_data.append(float(row[4]))\n",
    "        nozzle_efficiency_data.append(float(row[5]))\n",
    "        exit_pres_data.append(float(row[6]))\n",
    "        area_ratio_data.append(float(row[7]))\n",
    "        vmass_data.append(float(row[8]))\n",
    "        lden_data.append(float(row[9]))\n",
    "        lmass_data.append(float(row[10]))\n",
    "        fuel_mass_data.append(float(row[11]))\n",
    "        \n",
    "        #This is a bit inefficient given that these are constants, (we only need to record them once):\n",
    "        DENSITY_FUEL = float(row[12])\n",
    "        DIA_FUEL = float(row[13])\n",
    "        LENGTH_PORT = float(row[14])\n",
    "\n",
    "'''Rocket parameters'''\n",
    "dry_mass = 60                               # kg\n",
    "rocket_length = 6.529                       # m\n",
    "rocket_radius = 98.5e-3                     # m\n",
    "rocket_wall_thickness = 1e-2                # m - This is just needed for the mass model\n",
    "pos_tank_bottom = 4.456                     # m - Distance between the nose tip and the bottom of the nitrous tank\n",
    "pos_solidfuel_bottom = 4.856+LENGTH_PORT    # m - Distance between the nose tip and bottom of the solid fuel grain \n",
    "ref_area = 0.0305128422                     # m^2 - Reference area for aerodynamic coefficients\n",
    "\n",
    "'''Set up aerodynamic properties'''\n",
    "#Get approximate values for the rotational damping coefficients\n",
    "c_damp_pitch = trajectory.aero.pitch_damping_coefficient(rocket_length, rocket_radius, fin_number = 4, area_per_fin = 0.07369928)\n",
    "c_damp_roll = 0\n",
    "\n",
    "#Import drag coefficients from RASAero II\n",
    "aerodynamic_coefficients = trajectory.aero.RASAeroData(\"data/Martlet4RasAeroII.CSV\", ref_area, c_damp_pitch, c_damp_roll)\n",
    "\n",
    "'''Set up the mass model'''\n",
    "liquid_fuel = trajectory.LiquidFuel(lden_data, lmass_data, rocket_radius, pos_tank_bottom, motor_time_data)\n",
    "solid_fuel = trajectory.SolidFuel(fuel_mass_data, DENSITY_FUEL, DIA_FUEL/2, LENGTH_PORT, pos_solidfuel_bottom, motor_time_data)\n",
    "dry_mass_model = trajectory.HollowCylinder(rocket_radius, rocket_radius - rocket_wall_thickness, rocket_length, dry_mass)\n",
    "\n",
    "mass_model = trajectory.HybridMassModel(rocket_length, solid_fuel, liquid_fuel, vmass_data, \n",
    "                                        dry_mass_model.mass, dry_mass_model.ixx(), dry_mass_model.iyy(), dry_mass_model.izz(), \n",
    "                                        dry_cog = rocket_length/2)\n",
    "\n",
    "'''Create the other objects needed to initialise the Rocket object'''\n",
    "pulsar = trajectory.Motor(motor_time_data, \n",
    "                          prop_mass_data, \n",
    "                          cham_pres_data, \n",
    "                          throat_data, \n",
    "                          gamma_data, \n",
    "                          nozzle_efficiency_data, \n",
    "                          exit_pres_data, \n",
    "                          area_ratio_data)\n",
    "\n",
    "launch_site = trajectory.LaunchSite(rail_length=10, \n",
    "                                    rail_yaw=0, \n",
    "                                    rail_pitch=0, \n",
    "                                    alt=0, \n",
    "                                    longi=0, \n",
    "                                    lat=0, \n",
    "                                    wind=[4.94975,4.94975,0])\n",
    "\n",
    "parachute = trajectory.Parachute(main_s = 13.9,\n",
    "                                 main_c_d = 0.78,\n",
    "                                 drogue_s = 1.13,\n",
    "                                 drogue_c_d = 0.78,\n",
    "                                 main_alt = 1000,\n",
    "                                 attatch_distance = 0)\n",
    "\n",
    "\"\"\"Create the Rocket object\"\"\"\n",
    "martlet4 = trajectory.Rocket(mass_model, pulsar, aerodynamic_coefficients, launch_site, h=0.05, variable=True, alt_poll_interval=1, parachute=parachute)\n"
   ]
  },
  {
   "cell_type": "markdown",
   "metadata": {},
   "source": [
    "Now we can start actually setting up an aerodynamic heating simulation. First we must define the nosecone shape, by creating a TangentOgive object:"
   ]
  },
  {
   "cell_type": "code",
   "execution_count": 4,
   "metadata": {},
   "outputs": [],
   "source": [
    "tangent_ogive = trajectory.post.TangentOgive(xprime = 73.7e-2, yprime = (19.7e-2)/2)"
   ]
  },
  {
   "cell_type": "markdown",
   "metadata": {},
   "source": [
    "'xprime' is the length of the nosecone, and 'yprime' is the radius. See Fig 2. of https://arc.aiaa.org/doi/pdf/10.2514/3.62081 for a diagram."
   ]
  },
  {
   "cell_type": "markdown",
   "metadata": {},
   "source": [
    "We can now set up the aerodynamic heating simulation, and run a step:"
   ]
  },
  {
   "cell_type": "code",
   "execution_count": 5,
   "metadata": {},
   "outputs": [
    {
     "name": "stdout",
     "output_type": "stream",
     "text": [
      "Minf = 1.7631813111961308\n",
      "M1 = 147267.47954306589\n",
      "M2 = 136590.46529996302\n",
      "M3 = 126592.77371825003\n",
      "M4 = 117220.30544688135\n",
      "M5 = 108428.94958140279\n",
      "M6 = 100181.60086718325\n",
      "M7 = 92446.19895320274\n",
      "M8 = 85194.39864657703\n",
      "M9 = 78400.64556342716\n",
      "M10 = 72041.52103786511\n",
      "M11 = 66095.27094748145\n"
     ]
    }
   ],
   "source": [
    "analysis = trajectory.post.HeatTransfer(tangent_ogive, imported_data, martlet4)\n",
    "analysis.step()"
   ]
  },
  {
   "cell_type": "code",
   "execution_count": null,
   "metadata": {},
   "outputs": [],
   "source": []
  },
  {
   "cell_type": "code",
   "execution_count": null,
   "metadata": {},
   "outputs": [],
   "source": []
  }
 ],
 "metadata": {
  "kernelspec": {
   "display_name": "Python 3",
   "language": "python",
   "name": "python3"
  },
  "language_info": {
   "codemirror_mode": {
    "name": "ipython",
    "version": 3
   },
   "file_extension": ".py",
   "mimetype": "text/x-python",
   "name": "python",
   "nbconvert_exporter": "python",
   "pygments_lexer": "ipython3",
   "version": "3.7.1"
  }
 },
 "nbformat": 4,
 "nbformat_minor": 2
}
