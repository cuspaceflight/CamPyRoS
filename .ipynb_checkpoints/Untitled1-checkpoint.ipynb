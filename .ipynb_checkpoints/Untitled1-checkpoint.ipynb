{
 "cells": [
  {
   "cell_type": "code",
   "execution_count": 374,
   "metadata": {},
   "outputs": [],
   "source": [
    "import iris,requests,metpy.calc,iris.pandas\n",
    "import iris.plot as iplt\n",
    "import pandas as pd\n",
    "import numpy as np\n",
    "from metpy.units import units\n",
    "import scipy.interpolate as interp"
   ]
  },
  {
   "cell_type": "raw",
   "metadata": {},
   "source": [
    "For now this assumes that the flight is short enough that one time point is sufficient otherwise interpolation between multiple forcasts is needed."
   ]
  },
  {
   "cell_type": "code",
   "execution_count": 38,
   "metadata": {},
   "outputs": [],
   "source": [
    "save_loc=\"data/wind/forcast/gfs\"\n",
    "desired_long=0.1160127\n",
    "desired_lat=52.2079404\n",
    "\n",
    "\n",
    "#Who makes an api that when you ask for a grid section too small sends the whole world instead of nothing or rounding it up to a whole one\n",
    "lat_top=round(desired_lat/.25)*.25\n",
    "if lat_top>desired_lat:\n",
    "    lat_bottom=lat_top-.25\n",
    "else:\n",
    "    lat_bottom=lat_top+.25\n",
    "    lat_top,lat_bottom=lat_bottom,lat_top\n",
    "    \n",
    "long_left=round(desired_long/.25)*.25\n",
    "if long_left<desired_long:\n",
    "    long_right=long_left+.25\n",
    "else:\n",
    "    long_right=long_left-.25\n",
    "    long_left,long_right=long_right,long_left\n",
    "\n",
    "url=\"https://nomads.ncep.noaa.gov/cgi-bin/filter_gfs_0p25_1hr.pl?file=gfs.t00z.pgrb2.0p25.anl&lev_0.4_mb=on&lev_1000_mb=on&lev_100_mb=on&lev_10_mb=on&lev_150_mb=on&lev_15_mb=on&lev_180-0_mb_above_ground=on&lev_1_mb=on&lev_200_mb=on&lev_20_mb=on&lev_250_mb=on&lev_255-0_mb_above_ground=on&lev_2_mb=on&lev_300_mb=on&lev_30-0_mb_above_ground=on&lev_30_mb=on&lev_350_mb=on&lev_3_mb=on&lev_400_mb=on&lev_40_mb=on&lev_450_mb=on&lev_500_mb=on&lev_50_mb=on&lev_550_mb=on&lev_5_mb=on&lev_600_mb=on&lev_650_mb=on&lev_700_mb=on&lev_70_mb=on&lev_750_mb=on&lev_7_mb=on&lev_800_mb=on&lev_850_mb=on&lev_900_mb=on&lev_925_mb=on&lev_950_mb=on&lev_975_mb=on&var_HGT=on&var_UGRD=on&var_VGRD=on&subregion=&leftlon={leftlon}&rightlon={rightlon}&toplat={toplat}&bottomlat={bottomlat}&dir=%2Fgfs.20201210%2F00\".format(leftlon=long_left,rightlon=long_right,toplat=lat_top,bottomlat=lat_bottom)\n"
   ]
  },
  {
   "cell_type": "code",
   "execution_count": 39,
   "metadata": {},
   "outputs": [],
   "source": [
    "r = requests.get(url, stream=True)\n",
    "\n",
    "with open(\"%s/11_wind_cam.grb2\"%save_loc,'wb') as f:\n",
    "    for chunk in r.iter_content(chunk_size=1024):\n",
    "      if chunk: \n",
    "         f.write(chunk)"
   ]
  },
  {
   "cell_type": "code",
   "execution_count": 40,
   "metadata": {},
   "outputs": [],
   "source": [
    "data=iris.load(\"%s/11_wind_cam.grb2\"%save_loc)"
   ]
  },
  {
   "cell_type": "code",
   "execution_count": 61,
   "metadata": {},
   "outputs": [],
   "source": [
    "x_wind=data[1]"
   ]
  },
  {
   "cell_type": "code",
   "execution_count": 62,
   "metadata": {},
   "outputs": [
    {
     "data": {
      "text/plain": [
       "[<matplotlib.lines.Line2D at 0x1a23e497d0>]"
      ]
     },
     "execution_count": 62,
     "metadata": {},
     "output_type": "execute_result"
    },
    {
     "data": {
      "image/png": "[encoded data removed]",
      "text/plain": [
       "<Figure size 432x288 with 1 Axes>"
      ]
     },
     "metadata": {
      "needs_background": "light"
     },
     "output_type": "display_data"
    }
   ],
   "source": [
    "plt.plot(alts*10,np.sqrt(np.array(x)**2+np.array(y)**2))"
   ]
  },
  {
   "cell_type": "code",
   "execution_count": 108,
   "metadata": {},
   "outputs": [],
   "source": [
    "geos=[]\n",
    "pressures=[]\n",
    "for n in range(0,31):\n",
    "    geos.append(data[0][n][0][0].data)\n",
    "    pressures.append(data[0][n][0][0].coord(\"pressure\").points[0])"
   ]
  },
  {
   "cell_type": "code",
   "execution_count": 32,
   "metadata": {},
   "outputs": [],
   "source": [
    "desired_long=.11\n",
    "\n",
    "long_left=round(desired_long/.25)*.25\n",
    "if long_left<desired_long:\n",
    "    long_right=long_left+.25\n",
    "else:\n",
    "    long_right=long_left-.25\n",
    "    long_left,long_right=long_right,long_left"
   ]
  },
  {
   "cell_type": "code",
   "execution_count": 110,
   "metadata": {},
   "outputs": [
    {
     "data": {
      "text/plain": [
       "[<matplotlib.lines.Line2D at 0x1a2419c350>]"
      ]
     },
     "execution_count": 110,
     "metadata": {},
     "output_type": "execute_result"
    },
    {
     "data": {
      "image/png": "[encoded data removed]",
      "text/plain": [
       "<Figure size 432x288 with 1 Axes>"
      ]
     },
     "metadata": {
      "needs_background": "light"
     },
     "output_type": "display_data"
    }
   ],
   "source": [
    "plt.plot(geos,1000*metpy.calc.pressure_to_height_std(pressures*units.kg/(units.meter*units.second*units.second)))"
   ]
  },
  {
   "cell_type": "code",
   "execution_count": 138,
   "metadata": {},
   "outputs": [
    {
     "data": {
      "text/plain": [
       "array([32.43383158, 30.75992045, 29.67338596, 28.17961757, 27.11334095,\n",
       "       25.90597092, 23.31179815, 21.6279225 , 19.31292906, 17.66044839,\n",
       "       15.78930577, 13.50212446, 11.76894158, 10.35770597,  9.15932612,\n",
       "        8.11316795,  7.18180872,  6.34041888,  5.57162493,  4.8627642 ,\n",
       "        4.20430412,  3.58887733,  3.01066437,  2.4649832 ,  1.94800727,\n",
       "        1.45656641,  0.98800295,  0.76158311,  0.54006541,  0.32321879,\n",
       "        0.11082868])"
      ]
     },
     "execution_count": 138,
     "metadata": {},
     "output_type": "execute_result"
    }
   ],
   "source": [
    "metpy.calc.pressure_to_height_std(pressures*units.kg/(units.meter*units.second*units.second)).magnitude"
   ]
  },
  {
   "cell_type": "code",
   "execution_count": 213,
   "metadata": {},
   "outputs": [],
   "source": [
    "lats=list(data[0].coord(\"latitude\").points)\n",
    "longs=list(data[0].coord(\"longitude\").points)\n",
    "\n",
    "df=pd.DataFrame(columns=[\"lat\",\"long\",\"alt\",\"w_x\",\"w_y\"])"
   ]
  },
  {
   "cell_type": "code",
   "execution_count": 214,
   "metadata": {},
   "outputs": [],
   "source": [
    "for long in data[0].coord(\"longitude\").points:\n",
    "    for lat in lats:\n",
    "        pres=data[0].extract(iris.Constraint(latitude=lat,longitude=long)).coord(\"pressure\").points\n",
    "        alts=10*metpy.calc.geopotential_to_height(data[0].extract(iris.Constraint(latitude=lat,longitude=long)).data*units.m**2/units.s**2).magnitude\n",
    "        for index,alt in enumerate(alts):\n",
    "            w_x=data[1].extract(iris.Constraint(latitude=lat,longitude=long,pressure=pres[index])).data\n",
    "            w_y=data[3].extract(iris.Constraint(latitude=lat,longitude=long,pressure=pres[index])).data\n",
    "            row={\"lat\":lat,\"long\":long,\"alt\":alt,\"w_x\":w_x,\"w_y\":w_y}\n",
    "            df=df.append(row,ignore_index=True)"
   ]
  },
  {
   "cell_type": "code",
   "execution_count": 428,
   "metadata": {},
   "outputs": [],
   "source": [
    "rad = np.float64(6378137.0)        # Radius of the Earth (in meters)\n",
    "f = np.float64(1.0/298.257223563)  # Flattening factor WGS84 Model\n",
    "ang_vel_earth = 7.292115090e-5\n",
    "\n",
    "def lla2i(lat, lon, alt, time):\n",
    "    # see http://www.mathworks.de/help/toolbox/aeroblks/llatoecefposition.html\n",
    "    cosLat = np.cos(lat*np.pi/180)\n",
    "    sinLat = np.sin(lat*np.pi/180)\n",
    "    FF     = (1.0-f)**2\n",
    "    C      = 1/np.sqrt(cosLat**2 + FF * sinLat**2)\n",
    "    S      = C * FF\n",
    "\n",
    "    x = (rad * C + alt)*cosLat * np.cos(lon*np.pi/180+ang_vel_earth*time)\n",
    "    y = (rad * C + alt)*cosLat * np.sin(lon*np.pi/180)\n",
    "    z = (rad * S + alt)*sinLat\n",
    "    return x, y, z\n",
    "\n",
    "def i2lla(x,y,z,time):\n",
    "    long=np.angle(x+1j*y)\n",
    "    s=np.sqrt(x**2+y**2)\n",
    "    e=np.sqrt(1-(1-f)**2)\n",
    "    \n",
    "    \n",
    "    beta=np.angle(1j*z+(1-f)*s)\n",
    "    mu=0\n",
    "    mu_=np.angle((s-e**2*rad*np.cos(beta)**3)+1j*(z+e**2*(1-f)*rad*np.sin(beta)**3/(1-e**2)))\n",
    "    print(mu_)\n",
    "    while abs(mu_-mu)>1e-100:\n",
    "        mu=mu_\n",
    "        beta=np.angle(1j*(1-f)*np.sin(mu)+np.cos(mu))\n",
    "        mu_=np.angle((s-e**2*rad*np.cos(beta)**3)+1j*(z+e**2*(1-f)*rad*np.sin(beta)**3/(1-e**2)))\n",
    "        print(abs(mu_-mu))\n",
    "    mu=mu_\n",
    "\n"
   ]
  },
  {
   "cell_type": "code",
   "execution_count": 429,
   "metadata": {},
   "outputs": [
    {
     "name": "stdout",
     "output_type": "stream",
     "text": [
      "106.67888917132426 1.105876070080639\n"
     ]
    }
   ],
   "source": [
    "get_wind(0.1,52.1,42000)"
   ]
  },
  {
   "cell_type": "code",
   "execution_count": 431,
   "metadata": {},
   "outputs": [
    {
     "name": "stdout",
     "output_type": "stream",
     "text": [
      "0.35381138867606665\n",
      "0.0\n"
     ]
    }
   ],
   "source": [
    "i2lla(4546453453455455.0,13454566345455645.0,5245546565464356.0,0)"
   ]
  },
  {
   "cell_type": "code",
   "execution_count": 368,
   "metadata": {},
   "outputs": [],
   "source": [
    "def ll2i(lat,long,alt,time):\n",
    "    \"\"\" lati in degrees, longi in degrees. alti in meters (mean sea level) \"\"\"\n",
    "    # Adopted from https://en.wikipedia.org/wiki/Geographic_coordinate_conversion#From_geodetic_to_ECEF_coordinates\n",
    "    ang_vel_earth = 7.292115090e-5\n",
    "    \n",
    "    phi = lat*np.pi/180\n",
    "    lambada = long*np.pi/180-ang_vel_earth*time\n",
    "    \n",
    "    e = 0#0.081819191 #earth ecentricity\n",
    "    q = np.sin( phi )\n",
    "    N = 6378137.0 / np.sqrt( 1 - e*e * q*q )\n",
    "    X = (N + alt) * np.cos( phi ) * np.cos( lambada )\n",
    "    Y = (N + alt) * np.cos( phi ) * np.sin( lambada )\n",
    "    Z = (N*(1-e*e) + alt) * np.sin( phi )\n",
    "\n",
    "    return np.array([X,Y,Z])"
   ]
  },
  {
   "cell_type": "code",
   "execution_count": 372,
   "metadata": {},
   "outputs": [
    {
     "name": "stdout",
     "output_type": "stream",
     "text": [
      "6378137.0\n"
     ]
    },
    {
     "data": {
      "text/plain": [
       "array([6377537.77276311,   87427.38557641,       0.        ])"
      ]
     },
     "execution_count": 372,
     "metadata": {},
     "output_type": "execute_result"
    }
   ],
   "source": [
    "ll2i(0.0, 0.7853981633974483, -1.4162309103227242e-09,0)"
   ]
  },
  {
   "cell_type": "code",
   "execution_count": 377,
   "metadata": {},
   "outputs": [
    {
     "data": {
      "text/html": [
       "\n",
       "<style>\n",
       "  a.iris {\n",
       "      text-decoration: none !important;\n",
       "  }\n",
       "  table.iris {\n",
       "      white-space: pre;\n",
       "      border: 1px solid;\n",
       "      border-color: #9c9c9c;\n",
       "      font-family: monaco, monospace;\n",
       "  }\n",
       "  th.iris {\n",
       "      background: #303f3f;\n",
       "      color: #e0e0e0;\n",
       "      border-left: 1px solid;\n",
       "      border-color: #9c9c9c;\n",
       "      font-size: 1.05em;\n",
       "      min-width: 50px;\n",
       "      max-width: 125px;\n",
       "  }\n",
       "  tr.iris :first-child {\n",
       "      border-right: 1px solid #9c9c9c !important;\n",
       "  }\n",
       "  td.iris-title {\n",
       "      background: #d5dcdf;\n",
       "      border-top: 1px solid #9c9c9c;\n",
       "      font-weight: bold;\n",
       "  }\n",
       "  .iris-word-cell {\n",
       "      text-align: left !important;\n",
       "      white-space: pre;\n",
       "  }\n",
       "  .iris-subheading-cell {\n",
       "      padding-left: 2em !important;\n",
       "  }\n",
       "  .iris-inclusion-cell {\n",
       "      padding-right: 1em !important;\n",
       "  }\n",
       "  .iris-panel-body {\n",
       "      padding-top: 0px;\n",
       "  }\n",
       "  .iris-panel-title {\n",
       "      padding-left: 3em;\n",
       "  }\n",
       "  .iris-panel-title {\n",
       "      margin-top: 7px;\n",
       "  }\n",
       "</style>\n",
       "<table class=\"iris\" id=\"114462254736\">\n",
       "    <tr class=\"iris\">\n",
       "<th class=\"iris iris-word-cell\">Geopotential Height (m)</th>\n",
       "<th class=\"iris iris-word-cell\">pressure</th>\n",
       "<th class=\"iris iris-word-cell\">latitude</th>\n",
       "<th class=\"iris iris-word-cell\">longitude</th>\n",
       "</tr>\n",
       "    <tr class=\"iris\">\n",
       "<td class=\"iris-word-cell iris-subheading-cell\">Shape</td>\n",
       "<td class=\"iris iris-inclusion-cell\">31</td>\n",
       "<td class=\"iris iris-inclusion-cell\">2</td>\n",
       "<td class=\"iris iris-inclusion-cell\">2</td>\n",
       "</tr>\n",
       "    <tr class=\"iris\">\n",
       "    <td class=\"iris-title iris-word-cell\">Dimension coordinates</td>\n",
       "    <td class=\"iris-title\"></td>\n",
       "    <td class=\"iris-title\"></td>\n",
       "    <td class=\"iris-title\"></td>\n",
       "</tr>\n",
       "<tr class=\"iris\">\n",
       "    <td class=\"iris-word-cell iris-subheading-cell\">\tpressure</td>\n",
       "    <td class=\"iris-inclusion-cell\">x</td>\n",
       "    <td class=\"iris-inclusion-cell\">-</td>\n",
       "    <td class=\"iris-inclusion-cell\">-</td>\n",
       "</tr>\n",
       "<tr class=\"iris\">\n",
       "    <td class=\"iris-word-cell iris-subheading-cell\">\tlatitude</td>\n",
       "    <td class=\"iris-inclusion-cell\">-</td>\n",
       "    <td class=\"iris-inclusion-cell\">x</td>\n",
       "    <td class=\"iris-inclusion-cell\">-</td>\n",
       "</tr>\n",
       "<tr class=\"iris\">\n",
       "    <td class=\"iris-word-cell iris-subheading-cell\">\tlongitude</td>\n",
       "    <td class=\"iris-inclusion-cell\">-</td>\n",
       "    <td class=\"iris-inclusion-cell\">-</td>\n",
       "    <td class=\"iris-inclusion-cell\">x</td>\n",
       "</tr>\n",
       "<tr class=\"iris\">\n",
       "    <td class=\"iris-title iris-word-cell\">Scalar coordinates</td>\n",
       "    <td class=\"iris-title\"></td>\n",
       "    <td class=\"iris-title\"></td>\n",
       "    <td class=\"iris-title\"></td>\n",
       "</tr>\n",
       "<tr class=\"iris\">\n",
       "    <td class=\"iris-word-cell iris-subheading-cell\">\tforecast_period</td>\n",
       "    <td class=\"iris-word-cell\" colspan=\"3\">0 hours</td>\n",
       "</tr>\n",
       "<tr class=\"iris\">\n",
       "    <td class=\"iris-word-cell iris-subheading-cell\">\tforecast_reference_time</td>\n",
       "    <td class=\"iris-word-cell\" colspan=\"3\">2020-12-10 00:00:00</td>\n",
       "</tr>\n",
       "<tr class=\"iris\">\n",
       "    <td class=\"iris-word-cell iris-subheading-cell\">\ttime</td>\n",
       "    <td class=\"iris-word-cell\" colspan=\"3\">2020-12-10 00:00:00</td>\n",
       "</tr>\n",
       "<tr class=\"iris\">\n",
       "    <td class=\"iris-title iris-word-cell\">Attributes</td>\n",
       "    <td class=\"iris-title\"></td>\n",
       "    <td class=\"iris-title\"></td>\n",
       "    <td class=\"iris-title\"></td>\n",
       "</tr>\n",
       "<tr class=\"iris\">\n",
       "    <td class=\"iris-word-cell iris-subheading-cell\">\tGRIB_PARAM</td>\n",
       "    <td class=\"iris-word-cell\" colspan=\"3\">GRIB2:d000c003n005</td>\n",
       "</tr>\n",
       "</table>\n",
       "        "
      ],
      "text/plain": [
       "<iris 'Cube' of geopotential_height / (m) (pressure: 31; latitude: 2; longitude: 2)>"
      ]
     },
     "execution_count": 377,
     "metadata": {},
     "output_type": "execute_result"
    }
   ],
   "source": [
    "data[0]"
   ]
  },
  {
   "cell_type": "code",
   "execution_count": null,
   "metadata": {},
   "outputs": [],
   "source": []
  }
 ],
 "metadata": {
  "kernelspec": {
   "display_name": "Python 3",
   "language": "python",
   "name": "python3"
  },
  "language_info": {
   "codemirror_mode": {
    "name": "ipython",
    "version": 3
   },
   "file_extension": ".py",
   "mimetype": "text/x-python",
   "name": "python",
   "nbconvert_exporter": "python",
   "pygments_lexer": "ipython3",
   "version": "3.7.6"
  }
 },
 "nbformat": 4,
 "nbformat_minor": 4
}
