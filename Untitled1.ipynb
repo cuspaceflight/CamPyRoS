{
 "cells": [
  {
   "cell_type": "code",
   "execution_count": 45,
   "metadata": {},
   "outputs": [],
   "source": [
    "import iris,requests,metpy.calc,iris.pandas\n",
    "import matplotlib.pyplot as plt\n",
    "import iris.plot as iplt\n",
    "import pandas as pd\n",
    "import numpy as np\n",
    "from metpy.units import units"
   ]
  },
  {
   "cell_type": "code",
   "execution_count": 38,
   "metadata": {},
   "outputs": [],
   "source": [
    "save_loc=\"data/wind/forcast/gfs\"\n",
    "desired_long=0.1160127\n",
    "desired_lat=52.2079404\n",
    "\n",
    "\n",
    "#Who makes an api that when you ask for a grid section too small sends the whole world instead of nothing or rounding it up to a whole one\n",
    "lat_top=round(desired_lat/.25)*.25\n",
    "if lat_top>desired_lat:\n",
    "    lat_bottom=lat_top-.25\n",
    "else:\n",
    "    lat_bottom=lat_top+.25\n",
    "    lat_top,lat_bottom=lat_bottom,lat_top\n",
    "    \n",
    "long_left=round(desired_long/.25)*.25\n",
    "if long_left<desired_long:\n",
    "    long_right=long_left+.25\n",
    "else:\n",
    "    long_right=long_left-.25\n",
    "    long_left,long_right=long_right,long_left\n",
    "\n",
    "url=\"https://nomads.ncep.noaa.gov/cgi-bin/filter_gfs_0p25_1hr.pl?file=gfs.t00z.pgrb2.0p25.anl&lev_0.4_mb=on&lev_1000_mb=on&lev_100_mb=on&lev_10_mb=on&lev_150_mb=on&lev_15_mb=on&lev_180-0_mb_above_ground=on&lev_1_mb=on&lev_200_mb=on&lev_20_mb=on&lev_250_mb=on&lev_255-0_mb_above_ground=on&lev_2_mb=on&lev_300_mb=on&lev_30-0_mb_above_ground=on&lev_30_mb=on&lev_350_mb=on&lev_3_mb=on&lev_400_mb=on&lev_40_mb=on&lev_450_mb=on&lev_500_mb=on&lev_50_mb=on&lev_550_mb=on&lev_5_mb=on&lev_600_mb=on&lev_650_mb=on&lev_700_mb=on&lev_70_mb=on&lev_750_mb=on&lev_7_mb=on&lev_800_mb=on&lev_850_mb=on&lev_900_mb=on&lev_925_mb=on&lev_950_mb=on&lev_975_mb=on&var_HGT=on&var_UGRD=on&var_VGRD=on&subregion=&leftlon={leftlon}&rightlon={rightlon}&toplat={toplat}&bottomlat={bottomlat}&dir=%2Fgfs.20201210%2F00\".format(leftlon=long_left,rightlon=long_right,toplat=lat_top,bottomlat=lat_bottom)\n"
   ]
  },
  {
   "cell_type": "code",
   "execution_count": 39,
   "metadata": {},
   "outputs": [],
   "source": [
    "r = requests.get(url, stream=True)\n",
    "\n",
    "with open(\"%s/11_wind_cam.grb2\"%save_loc,'wb') as f:\n",
    "    for chunk in r.iter_content(chunk_size=1024):\n",
    "      if chunk: \n",
    "         f.write(chunk)"
   ]
  },
  {
   "cell_type": "code",
   "execution_count": 40,
   "metadata": {},
   "outputs": [],
   "source": [
    "data=iris.load(\"%s/11_wind_cam.grb2\"%save_loc)"
   ]
  },
  {
   "cell_type": "code",
   "execution_count": 18,
   "metadata": {},
   "outputs": [],
   "source": [
    "x=[]\n",
    "y=[]\n",
    "geo=[]\n",
    "for n in range(0,31):\n",
    "    x.append(data[1][n][0][0].data)\n",
    "    y.append(data[3][n][0][0].data)\n",
    "    geo.append(data[0][n][0][0].data)\n",
    "alts=metpy.calc.geopotential_to_height(geo*units.m**2/units.s**2)"
   ]
  },
  {
   "cell_type": "code",
   "execution_count": 19,
   "metadata": {},
   "outputs": [
    {
     "data": {
      "text/plain": [
       "[<matplotlib.lines.Line2D at 0x1a35ab1390>]"
      ]
     },
     "execution_count": 19,
     "metadata": {},
     "output_type": "execute_result"
    },
    {
     "data": {
      "image/png": "[encoded data removed]",
      "text/plain": [
       "<Figure size 432x288 with 1 Axes>"
      ]
     },
     "metadata": {
      "needs_background": "light"
     },
     "output_type": "display_data"
    }
   ],
   "source": [
    "plt.plot(alts*10,np.sqrt(np.array(x)**2+np.array(y)**2))"
   ]
  },
  {
   "cell_type": "code",
   "execution_count": 57,
   "metadata": {},
   "outputs": [
    {
     "data": {
      "text/plain": [
       "DimCoord(array([52.  , 52.25]), standard_name='latitude', units=Unit('degrees'), coord_system=GeogCS(6371229.0))"
      ]
     },
     "execution_count": 57,
     "metadata": {},
     "output_type": "execute_result"
    }
   ],
   "source": [
    "data[0][0].coord(\"latitude\")"
   ]
  },
  {
   "cell_type": "code",
   "execution_count": 32,
   "metadata": {},
   "outputs": [],
   "source": [
    "desired_long=.11\n",
    "\n",
    "long_left=round(desired_long/.25)*.25\n",
    "if long_left<desired_long:\n",
    "    long_right=long_left+.25\n",
    "else:\n",
    "    long_right=long_left-.25\n",
    "    long_left,long_right=long_right,long_left"
   ]
  },
  {
   "cell_type": "code",
   "execution_count": 33,
   "metadata": {},
   "outputs": [
    {
     "data": {
      "text/plain": [
       "0.0"
      ]
     },
     "execution_count": 33,
     "metadata": {},
     "output_type": "execute_result"
    }
   ],
   "source": [
    "long_left"
   ]
  },
  {
   "cell_type": "code",
   "execution_count": 34,
   "metadata": {},
   "outputs": [
    {
     "data": {
      "text/plain": [
       "0.25"
      ]
     },
     "execution_count": 34,
     "metadata": {},
     "output_type": "execute_result"
    }
   ],
   "source": [
    "long_right"
   ]
  },
  {
   "cell_type": "code",
   "execution_count": null,
   "metadata": {},
   "outputs": [],
   "source": []
  }
 ],
 "metadata": {
  "kernelspec": {
   "display_name": "Python 3",
   "language": "python",
   "name": "python3"
  },
  "language_info": {
   "codemirror_mode": {
    "name": "ipython",
    "version": 3
   },
   "file_extension": ".py",
   "mimetype": "text/x-python",
   "name": "python",
   "nbconvert_exporter": "python",
   "pygments_lexer": "ipython3",
   "version": "3.7.6"
  }
 },
 "nbformat": 4,
 "nbformat_minor": 4
}
